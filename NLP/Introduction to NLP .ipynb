{
 "cells": [
  {
   "cell_type": "markdown",
   "metadata": {},
   "source": [
    "# Introduction to Natural Language Processing for Text"
   ]
  },
  {
   "cell_type": "markdown",
   "metadata": {},
   "source": [
    "**Goal**: Learn the basic techniques to extract features from some text, so you can use these features as input for machine learning models."
   ]
  },
  {
   "cell_type": "markdown",
   "metadata": {},
   "source": [
    "### 1. What is NLP (Natural Language Processing)?"
   ]
  },
  {
   "cell_type": "markdown",
   "metadata": {},
   "source": [
    "NLP is a subfield of computer science and artificial intelligence concerned with interactions between computers and human (natural) languages. It is used to apply machine learning algorithms to **text** and **speech**."
   ]
  },
  {
   "cell_type": "markdown",
   "metadata": {},
   "source": [
    "The study of natural language processing has been around for more than 50 years and grew out of the field of linguistics with the rise of computers."
   ]
  },
  {
   "cell_type": "markdown",
   "metadata": {},
   "source": [
    "Examples:\n",
    "    <li>Speech/Audio Recognition - Shazam</li> \n",
    "    <li>Autocomplete - MS Word</li> \n",
    "    <li>Question and Answering - Zuri</li> \n",
    "    <li>Text Recognition - Cam scanner</li> \n",
    "    <li>Sentiment Analysis - Twitter</li>\n",
    "    <li>Topic Modeling - Quora</li>\n",
    "    <li>Email Filtering/Spam Detection - Gmail</li> \n",
    "    <li>Language Translation - Google Translate</li>\n",
    "    <li>Document Summarization - Associated Press</li> "
   ]
  },
  {
   "cell_type": "markdown",
   "metadata": {},
   "source": [
    "## 2. Introduction to the NLTK library for Python"
   ]
  },
  {
   "cell_type": "code",
   "execution_count": 2,
   "metadata": {
    "scrolled": true
   },
   "outputs": [
    {
     "name": "stdout",
     "output_type": "stream",
     "text": [
      "Requirement already satisfied: nltk in c:\\users\\jt\\appdata\\local\\programs\\python\\python37\\lib\\site-packages (3.4.5)\n",
      "Requirement already satisfied: six in c:\\users\\jt\\appdata\\local\\programs\\python\\python37\\lib\\site-packages (from nltk) (1.14.0)\n"
     ]
    },
    {
     "name": "stderr",
     "output_type": "stream",
     "text": [
      "WARNING: You are using pip version 20.0.2; however, version 20.2.3 is available.\n",
      "You should consider upgrading via the 'c:\\users\\jt\\appdata\\local\\programs\\python\\python37\\python.exe -m pip install --upgrade pip' command.\n"
     ]
    }
   ],
   "source": [
    "!pip install nltk"
   ]
  },
  {
   "cell_type": "code",
   "execution_count": 6,
   "metadata": {},
   "outputs": [],
   "source": [
    "import nltk\n",
    "#nltk.download(\"popular\")"
   ]
  },
  {
   "cell_type": "markdown",
   "metadata": {},
   "source": [
    "NLTK (<b>Natural Language Toolkit</b>) is a leading platform for building Python programs to work with human language data. It provides easy-to-use interfaces to <b>many corpora</b> and <b>lexical resources</b>. Also, it contains a suite of <b>text processing libraries</b> for classification, tokenization, stemming, tagging, parsing, and semantic reasoning. Best of all, NLTK is a free, open source, community-driven project.\n",
    "\n",
    "We’ll use this toolkit to show some basics of the natural language processing field. For the examples below, I’ll assume that we have imported the NLTK toolkit. We can do this like this: import nltk."
   ]
  },
  {
   "cell_type": "markdown",
   "metadata": {},
   "source": [
    "## 3. The Basics of NLP for Text"
   ]
  },
  {
   "cell_type": "markdown",
   "metadata": {},
   "source": [
    "    1. Sentence Tokenization\n",
    "    2. Word Tokenization\n",
    "    3. Text Lemmatization and Stemming\n",
    "    4. Stop Words\n",
    "    5. Regex\n",
    "    6. Bag-of-Words\n",
    "    7. TF-IDF\n",
    "    8. Part of Speech tagging"
   ]
  },
  {
   "cell_type": "markdown",
   "metadata": {},
   "source": [
    "### i. Sentence Tokenization"
   ]
  },
  {
   "cell_type": "markdown",
   "metadata": {},
   "source": [
    "Sentence tokenization (also called sentence segmentation) is the problem of <b>dividing a string of written language into its component sentences</b>."
   ]
  },
  {
   "cell_type": "code",
   "execution_count": 9,
   "metadata": {},
   "outputs": [],
   "source": [
    "# Get text paragrapg\n",
    "text = \"\"\"To dream big, the family had to start small.\n",
    "That meant looking at what was beneath their feet. \n",
    "When the land was bought, much of it was overgrazed, with barren patches and gullies eroded in the earth.\n",
    "Fences were removed along with the livestock, and the rewilding effort began literally at grassroots level.\n",
    "\"Despite being a semi-arid region, there's a remarkable amount of biodiversity, particularly endemic plants,\" \n",
    "says Isabelle, adding that five of South Africa's nine types of plant habitat exist within Samara.\n",
    "\n",
    "\"\"\""
   ]
  },
  {
   "cell_type": "code",
   "execution_count": 10,
   "metadata": {},
   "outputs": [],
   "source": [
    "from nltk.tokenize import sent_tokenize"
   ]
  },
  {
   "cell_type": "code",
   "execution_count": 11,
   "metadata": {},
   "outputs": [
    {
     "data": {
      "text/plain": [
       "['To dream big, the family had to start small.',\n",
       " 'That meant looking at what was beneath their feet.',\n",
       " 'When the land was bought, much of it was overgrazed, with barren patches and gullies eroded in the earth.',\n",
       " 'Fences were removed along with the livestock, and the rewilding effort began literally at grassroots level.',\n",
       " '\"Despite being a semi-arid region, there\\'s a remarkable amount of biodiversity, particularly endemic plants,\" \\nsays Isabelle, adding that five of South Africa\\'s nine types of plant habitat exist within Samara.']"
      ]
     },
     "execution_count": 11,
     "metadata": {},
     "output_type": "execute_result"
    }
   ],
   "source": [
    "# Perform sentence segmentation\n",
    "sentences = nltk.sent_tokenize(text)\n",
    "sentences"
   ]
  },
  {
   "cell_type": "markdown",
   "metadata": {},
   "source": [
    "### ii. Word Tokenization"
   ]
  },
  {
   "cell_type": "markdown",
   "metadata": {},
   "source": [
    "Word tokenization (also called word segmentation) is the problem of dividing a string of written language into its component words."
   ]
  },
  {
   "cell_type": "code",
   "execution_count": 12,
   "metadata": {},
   "outputs": [],
   "source": [
    "from nltk.tokenize import word_tokenize "
   ]
  },
  {
   "cell_type": "code",
   "execution_count": 14,
   "metadata": {},
   "outputs": [
    {
     "data": {
      "text/plain": [
       "['To',\n",
       " 'dream',\n",
       " 'big',\n",
       " ',',\n",
       " 'the',\n",
       " 'family',\n",
       " 'had',\n",
       " 'to',\n",
       " 'start',\n",
       " 'small',\n",
       " '.',\n",
       " 'That',\n",
       " 'meant',\n",
       " 'looking',\n",
       " 'at',\n",
       " 'what',\n",
       " 'was',\n",
       " 'beneath',\n",
       " 'their',\n",
       " 'feet',\n",
       " '.',\n",
       " 'When',\n",
       " 'the',\n",
       " 'land',\n",
       " 'was',\n",
       " 'bought',\n",
       " ',',\n",
       " 'much',\n",
       " 'of',\n",
       " 'it',\n",
       " 'was',\n",
       " 'overgrazed',\n",
       " ',',\n",
       " 'with',\n",
       " 'barren',\n",
       " 'patches',\n",
       " 'and',\n",
       " 'gullies',\n",
       " 'eroded',\n",
       " 'in',\n",
       " 'the',\n",
       " 'earth',\n",
       " '.',\n",
       " 'Fences',\n",
       " 'were',\n",
       " 'removed',\n",
       " 'along',\n",
       " 'with',\n",
       " 'the',\n",
       " 'livestock',\n",
       " ',',\n",
       " 'and',\n",
       " 'the',\n",
       " 'rewilding',\n",
       " 'effort',\n",
       " 'began',\n",
       " 'literally',\n",
       " 'at',\n",
       " 'grassroots',\n",
       " 'level',\n",
       " '.',\n",
       " '``',\n",
       " 'Despite',\n",
       " 'being',\n",
       " 'a',\n",
       " 'semi-arid',\n",
       " 'region',\n",
       " ',',\n",
       " 'there',\n",
       " \"'s\",\n",
       " 'a',\n",
       " 'remarkable',\n",
       " 'amount',\n",
       " 'of',\n",
       " 'biodiversity',\n",
       " ',',\n",
       " 'particularly',\n",
       " 'endemic',\n",
       " 'plants',\n",
       " ',',\n",
       " \"''\",\n",
       " 'says',\n",
       " 'Isabelle',\n",
       " ',',\n",
       " 'adding',\n",
       " 'that',\n",
       " 'five',\n",
       " 'of',\n",
       " 'South',\n",
       " 'Africa',\n",
       " \"'s\",\n",
       " 'nine',\n",
       " 'types',\n",
       " 'of',\n",
       " 'plant',\n",
       " 'habitat',\n",
       " 'exist',\n",
       " 'within',\n",
       " 'Samara',\n",
       " '.']"
      ]
     },
     "execution_count": 14,
     "metadata": {},
     "output_type": "execute_result"
    }
   ],
   "source": [
    "word_tok = nltk.word_tokenize(text)\n",
    "word_tok"
   ]
  },
  {
   "cell_type": "code",
   "execution_count": 15,
   "metadata": {},
   "outputs": [
    {
     "name": "stdout",
     "output_type": "stream",
     "text": [
      "['To', 'dream', 'big', ',', 'the', 'family', 'had', 'to', 'start', 'small', '.']\n",
      "['That', 'meant', 'looking', 'at', 'what', 'was', 'beneath', 'their', 'feet', '.']\n",
      "['When', 'the', 'land', 'was', 'bought', ',', 'much', 'of', 'it', 'was', 'overgrazed', ',', 'with', 'barren', 'patches', 'and', 'gullies', 'eroded', 'in', 'the', 'earth', '.']\n",
      "['Fences', 'were', 'removed', 'along', 'with', 'the', 'livestock', ',', 'and', 'the', 'rewilding', 'effort', 'began', 'literally', 'at', 'grassroots', 'level', '.']\n",
      "['``', 'Despite', 'being', 'a', 'semi-arid', 'region', ',', 'there', \"'s\", 'a', 'remarkable', 'amount', 'of', 'biodiversity', ',', 'particularly', 'endemic', 'plants', ',', \"''\", 'says', 'Isabelle', ',', 'adding', 'that', 'five', 'of', 'South', 'Africa', \"'s\", 'nine', 'types', 'of', 'plant', 'habitat', 'exist', 'within', 'Samara', '.']\n"
     ]
    }
   ],
   "source": [
    "for sentence in sentences:\n",
    "    word = nltk.word_tokenize(sentence)\n",
    "    print(word)"
   ]
  },
  {
   "cell_type": "markdown",
   "metadata": {},
   "source": [
    "### iii. Text Lemmatization and Stemming"
   ]
  },
  {
   "cell_type": "markdown",
   "metadata": {},
   "source": [
    "For grammatical reasons, documents can contain different forms of a word such as drive, drives, driving. Also, sometimes we have related words with a similar meaning, such as nation, national, nationality.\n",
    "\n",
    "The goal of both stemming and lemmatization is to reduce inflectional forms and sometimes derivationally related forms of a word to a common base form."
   ]
  },
  {
   "cell_type": "markdown",
   "metadata": {},
   "source": [
    "Examples:\n",
    "\n",
    "    am, are, is => be\n",
    "    dog, dogs, dog’s, dogs’ => dog"
   ]
  },
  {
   "cell_type": "markdown",
   "metadata": {},
   "source": [
    "<li>Stemming usually refers to a crude <b>heuristic process</b> that chops off the ends of words in the hope of achieving this goal correctly most of the time, and often includes the removal of derivational affixes.</li>\n",
    "\n",
    "<li>Lemmatization usually refers to doing things properly with the use of a vocabulary and morphological analysis of words, normally aiming to remove inflectional endings only and to return the base or dictionary form of a word, which is known as the lemma.</li>"
   ]
  },
  {
   "cell_type": "markdown",
   "metadata": {},
   "source": [
    "Examples:\n",
    "\n",
    "    The word “better” has “good” as its lemma. This link is missed by stemming, as it requires a dictionary look-up.\n",
    "    The word “play” is the base form for the word “playing”, and hence this is matched in both stemming and lemmatization.\n",
    "    The word “meeting” can be either the base form of a noun or a form of a verb (“to meet”) depending on the context; e.g., “in our last meeting” or “We are meeting again tomorrow”. Unlike stemming, lemmatization attempts to select the correct lemma depending on the context."
   ]
  },
  {
   "attachments": {
    "image.png": {
     "image/png": "[encoded data removed]"
    }
   },
   "cell_type": "markdown",
   "metadata": {},
   "source": [
    "![image.png](attachment:image.png)"
   ]
  },
  {
   "cell_type": "code",
   "execution_count": 5,
   "metadata": {},
   "outputs": [],
   "source": [
    "paragraph = \"\"\"I have three visions for India. In 3000 years of our history, people from all over \n",
    "               the world have come and invaded us, captured our lands, conquered our minds. \n",
    "               From Alexander onwards, the Greeks, the Turks, the Moguls, the Portuguese, the British,\n",
    "               the French, the Dutch, all of them came and looted us, took over what was ours. \n",
    "               Yet we have not done this to any other nation. We have not conquered anyone. \n",
    "               We have not grabbed their land, their culture, \n",
    "               their history and tried to enforce our way of life on them. \n",
    "               \"\"\""
   ]
  },
  {
   "cell_type": "code",
   "execution_count": 29,
   "metadata": {},
   "outputs": [],
   "source": [
    "from nltk.stem import PorterStemmer, WordNetLemmatizer\n",
    "\n",
    "lemmatizer = WordNetLemmatizer()\n",
    "stemmer = PorterStemmer()"
   ]
  },
  {
   "cell_type": "code",
   "execution_count": 30,
   "metadata": {},
   "outputs": [
    {
     "data": {
      "text/plain": [
       "'going'"
      ]
     },
     "execution_count": 30,
     "metadata": {},
     "output_type": "execute_result"
    }
   ],
   "source": [
    "lemmatizer.lemmatize('going')"
   ]
  },
  {
   "cell_type": "code",
   "execution_count": 28,
   "metadata": {},
   "outputs": [
    {
     "data": {
      "text/plain": [
       "'go'"
      ]
     },
     "execution_count": 28,
     "metadata": {},
     "output_type": "execute_result"
    }
   ],
   "source": [
    "stemmer.stem('going')"
   ]
  },
  {
   "cell_type": "code",
   "execution_count": 19,
   "metadata": {},
   "outputs": [
    {
     "name": "stdout",
     "output_type": "stream",
     "text": [
      "Stemmer: go\n",
      "Lemmatizer: going\n",
      "\n"
     ]
    }
   ],
   "source": [
    "stem_lemma('going')"
   ]
  },
  {
   "cell_type": "code",
   "execution_count": null,
   "metadata": {},
   "outputs": [],
   "source": []
  },
  {
   "cell_type": "markdown",
   "metadata": {},
   "source": [
    "**Excercise**: Create a function that will take in a word and give an output of both the Stem and Lema form. "
   ]
  },
  {
   "cell_type": "code",
   "execution_count": 31,
   "metadata": {},
   "outputs": [],
   "source": [
    "\n",
    "\n",
    "def stem_lemma(word):\n",
    "    \"\"\"\n",
    "    Print the results of stemmind and lemmitization using the passed stemmer, lemmatizer, word and pos (part of speech)\n",
    "    \"\"\"\n",
    "    print(\"Stemmer:\", stemmer.stem(word))\n",
    "    print(\"Lemmatizer:\", lemmatizer.lemmatize(word))\n",
    "    print()"
   ]
  },
  {
   "cell_type": "code",
   "execution_count": 32,
   "metadata": {},
   "outputs": [
    {
     "name": "stdout",
     "output_type": "stream",
     "text": [
      "Stemmer: creat\n",
      "Lemmatizer: create\n",
      "\n"
     ]
    }
   ],
   "source": [
    "stem_lemma('create')"
   ]
  },
  {
   "cell_type": "markdown",
   "metadata": {},
   "source": [
    "### iv. Stop words"
   ]
  },
  {
   "cell_type": "markdown",
   "metadata": {},
   "source": [
    "Stop words are words which are filtered out before or after processing of text. When applying machine learning to text, these words can add a lot of noise. That’s why we want to remove these irrelevant words.\n",
    "\n",
    "Stop words usually refer to the most common words such as “and”, “the”, “a” in a language, but there is no single universal list of stopwords. The list of the stop words can change depending on your application."
   ]
  },
  {
   "cell_type": "code",
   "execution_count": 35,
   "metadata": {},
   "outputs": [
    {
     "name": "stdout",
     "output_type": "stream",
     "text": [
      "['i', 'me', 'my', 'myself', 'we', 'our', 'ours', 'ourselves', 'you', \"you're\", \"you've\", \"you'll\", \"you'd\", 'your', 'yours', 'yourself', 'yourselves', 'he', 'him', 'his', 'himself', 'she', \"she's\", 'her', 'hers', 'herself', 'it', \"it's\", 'its', 'itself', 'they', 'them', 'their', 'theirs', 'themselves', 'what', 'which', 'who', 'whom', 'this', 'that', \"that'll\", 'these', 'those', 'am', 'is', 'are', 'was', 'were', 'be', 'been', 'being', 'have', 'has', 'had', 'having', 'do', 'does', 'did', 'doing', 'a', 'an', 'the', 'and', 'but', 'if', 'or', 'because', 'as', 'until', 'while', 'of', 'at', 'by', 'for', 'with', 'about', 'against', 'between', 'into', 'through', 'during', 'before', 'after', 'above', 'below', 'to', 'from', 'up', 'down', 'in', 'out', 'on', 'off', 'over', 'under', 'again', 'further', 'then', 'once', 'here', 'there', 'when', 'where', 'why', 'how', 'all', 'any', 'both', 'each', 'few', 'more', 'most', 'other', 'some', 'such', 'no', 'nor', 'not', 'only', 'own', 'same', 'so', 'than', 'too', 'very', 's', 't', 'can', 'will', 'just', 'don', \"don't\", 'should', \"should've\", 'now', 'd', 'll', 'm', 'o', 're', 've', 'y', 'ain', 'aren', \"aren't\", 'couldn', \"couldn't\", 'didn', \"didn't\", 'doesn', \"doesn't\", 'hadn', \"hadn't\", 'hasn', \"hasn't\", 'haven', \"haven't\", 'isn', \"isn't\", 'ma', 'mightn', \"mightn't\", 'mustn', \"mustn't\", 'needn', \"needn't\", 'shan', \"shan't\", 'shouldn', \"shouldn't\", 'wasn', \"wasn't\", 'weren', \"weren't\", 'won', \"won't\", 'wouldn', \"wouldn't\"]\n"
     ]
    }
   ],
   "source": [
    "from nltk.corpus import stopwords\n",
    "print(stopwords.words(\"english\"))"
   ]
  },
  {
   "cell_type": "markdown",
   "metadata": {},
   "source": [
    "**Excercise:** Remove all stop words from the text variables"
   ]
  },
  {
   "cell_type": "code",
   "execution_count": 36,
   "metadata": {},
   "outputs": [],
   "source": [
    "text='''Are we the best? We endeavour to positively impact the lives of those in the community through giving back. \n",
    "The M-PESA foundation and Safaricom Foundation are just a few of our various avenues towards positive change in society. \n",
    "All this is because we believe in a future where opportunity is available to all regardless of background. \n",
    "Be it the underprivileged young ones, we believe that their future should not be negatively affected by their present or past. \n",
    "And thus we strive to change the present to improve the future.'''"
   ]
  },
  {
   "cell_type": "code",
   "execution_count": 45,
   "metadata": {},
   "outputs": [],
   "source": [
    "stop_words = set(stopwords.words(\"english\"))\n",
    "\n",
    "def remove_stop_words(p):\n",
    "    # Show original version\n",
    "    print('Original Paragraph')\n",
    "    print(p)\n",
    "    \n",
    "    # Get words from block\n",
    "    words = nltk.word_tokenize(p.lower())\n",
    "    \n",
    "    # Remove stopwords\n",
    "    p_stop = [word for word in words if word not in stop_words]\n",
    "    print()\n",
    "    print('Without Stop words')\n",
    "    print(' '.join(p_stop))"
   ]
  },
  {
   "cell_type": "code",
   "execution_count": 43,
   "metadata": {},
   "outputs": [
    {
     "name": "stdout",
     "output_type": "stream",
     "text": [
      "Original Paragraph\n",
      "Are we the best? We endeavour to positively impact the lives of those in the community through giving back. \n",
      "The M-PESA foundation and Safaricom Foundation are just a few of our various avenues towards positive change in society. \n",
      "All this is because we believe in a future where opportunity is available to all regardless of background. \n",
      "Be it the underprivileged young ones, we believe that their future should not be negatively affected by their present or past. \n",
      "And thus we strive to change the present to improve the future.\n",
      "\n",
      "Without Stop words\n",
      "best ? endeavour positively impact lives community giving back . m-pesa foundation safaricom foundation various avenues towards positive change society . believe future opportunity available regardless background . underprivileged young ones , believe future negatively affected present past . thus strive change present improve future .\n"
     ]
    }
   ],
   "source": [
    "remove_stop_words(text)"
   ]
  },
  {
   "cell_type": "markdown",
   "metadata": {},
   "source": [
    "### v. Bag of words"
   ]
  },
  {
   "cell_type": "markdown",
   "metadata": {},
   "source": [
    "Machine learning algorithms cannot work with raw text directly, we need to convert the text into vectors of numbers. This is called feature extraction.\n",
    "\n",
    "The bag-of-words model is a popular and simple feature extraction technique used when we work with text. It describes the occurrence of each word within a document.\n",
    "\n",
    "To use this model, we need to:\n",
    "\n",
    "    1. Design a vocabulary of known words (also called tokens)\n",
    "    2. Choose a measure of the presence of known words\n",
    "\n",
    "Any information about the order or structure of words is discarded. That’s why it’s called a bag of words. This model is trying to understand whether a known word occurs in a document, but don’t know where is that word in the document.\n",
    "\n",
    "The intuition is that similar documents have similar contents. Also, from a content, we can learn something about the meaning of the document."
   ]
  },
  {
   "cell_type": "code",
   "execution_count": 55,
   "metadata": {},
   "outputs": [],
   "source": [
    "def preprocess(p):\n",
    "    \n",
    "    # Get words from block\n",
    "    words = nltk.word_tokenize(p.lower())\n",
    "    \n",
    "    # Remove stopwords\n",
    "    p_stop = [word for word in words if word not in stop_words]\n",
    "    \n",
    "    # Stem words\n",
    "    result = [stemmer.stem(word) for word in p_stop]\n",
    "    \n",
    "    return ' '.join(result)"
   ]
  },
  {
   "cell_type": "code",
   "execution_count": 56,
   "metadata": {},
   "outputs": [
    {
     "data": {
      "text/plain": [
       "['best ?',\n",
       " 'endeavour posit impact live commun give back .',\n",
       " 'm-pesa foundat safaricom foundat variou avenu toward posit chang societi .',\n",
       " 'believ futur opportun avail regardless background .',\n",
       " 'underprivileg young one , believ futur neg affect present past .',\n",
       " 'thu strive chang present improv futur .']"
      ]
     },
     "execution_count": 56,
     "metadata": {},
     "output_type": "execute_result"
    }
   ],
   "source": [
    "documents = nltk.sent_tokenize(preprocess(text))\n",
    "documents"
   ]
  },
  {
   "cell_type": "markdown",
   "metadata": {},
   "source": [
    "### Create document vectors\n",
    "\n"
   ]
  },
  {
   "cell_type": "markdown",
   "metadata": {},
   "source": [
    "CountVectorizer is a great tool provided by the scikit-learn library in Python. It is used to transform a given text into a vector on the basis of the frequency (count) of each word that occurs in the entire text. This is helpful when we have multiple such texts, and we wish to convert each word in each text into vectors (for using in further text analysis)\n",
    "\n",
    "CountVectorizer creates a matrix in which each unique word is represented by a column of the matrix, and each text sample from the document is a row in the matrix. The value of each cell is nothing but the count of the word in that particular text sample.  "
   ]
  },
  {
   "cell_type": "code",
   "execution_count": 59,
   "metadata": {},
   "outputs": [],
   "source": [
    "from sklearn.feature_extraction.text import CountVectorizer"
   ]
  },
  {
   "cell_type": "code",
   "execution_count": 60,
   "metadata": {},
   "outputs": [],
   "source": [
    "#Design the Vocabulary\n",
    "# The default token pattern removes tokens of a single character\n",
    "count_vectorizer = CountVectorizer()"
   ]
  },
  {
   "cell_type": "code",
   "execution_count": 63,
   "metadata": {},
   "outputs": [],
   "source": [
    "# Create bag of words model\n",
    "bag_of_words = count_vectorizer.fit_transform(documents)"
   ]
  },
  {
   "cell_type": "code",
   "execution_count": 64,
   "metadata": {},
   "outputs": [
    {
     "data": {
      "text/plain": [
       "<6x32 sparse matrix of type '<class 'numpy.int64'>'\n",
       "\twith 38 stored elements in Compressed Sparse Row format>"
      ]
     },
     "execution_count": 64,
     "metadata": {},
     "output_type": "execute_result"
    }
   ],
   "source": [
    "bag_of_words"
   ]
  },
  {
   "cell_type": "code",
   "execution_count": 66,
   "metadata": {},
   "outputs": [],
   "source": []
  },
  {
   "cell_type": "code",
   "execution_count": 68,
   "metadata": {},
   "outputs": [
    {
     "data": {
      "text/html": [
       "<div>\n",
       "<style scoped>\n",
       "    .dataframe tbody tr th:only-of-type {\n",
       "        vertical-align: middle;\n",
       "    }\n",
       "\n",
       "    .dataframe tbody tr th {\n",
       "        vertical-align: top;\n",
       "    }\n",
       "\n",
       "    .dataframe thead th {\n",
       "        text-align: right;\n",
       "    }\n",
       "</style>\n",
       "<table border=\"1\" class=\"dataframe\">\n",
       "  <thead>\n",
       "    <tr style=\"text-align: right;\">\n",
       "      <th></th>\n",
       "      <th>affect</th>\n",
       "      <th>avail</th>\n",
       "      <th>avenu</th>\n",
       "      <th>back</th>\n",
       "      <th>background</th>\n",
       "      <th>believ</th>\n",
       "      <th>best</th>\n",
       "      <th>chang</th>\n",
       "      <th>commun</th>\n",
       "      <th>endeavour</th>\n",
       "      <th>...</th>\n",
       "      <th>present</th>\n",
       "      <th>regardless</th>\n",
       "      <th>safaricom</th>\n",
       "      <th>societi</th>\n",
       "      <th>strive</th>\n",
       "      <th>thu</th>\n",
       "      <th>toward</th>\n",
       "      <th>underprivileg</th>\n",
       "      <th>variou</th>\n",
       "      <th>young</th>\n",
       "    </tr>\n",
       "  </thead>\n",
       "  <tbody>\n",
       "    <tr>\n",
       "      <th>0</th>\n",
       "      <td>0</td>\n",
       "      <td>0</td>\n",
       "      <td>0</td>\n",
       "      <td>0</td>\n",
       "      <td>0</td>\n",
       "      <td>0</td>\n",
       "      <td>1</td>\n",
       "      <td>0</td>\n",
       "      <td>0</td>\n",
       "      <td>0</td>\n",
       "      <td>...</td>\n",
       "      <td>0</td>\n",
       "      <td>0</td>\n",
       "      <td>0</td>\n",
       "      <td>0</td>\n",
       "      <td>0</td>\n",
       "      <td>0</td>\n",
       "      <td>0</td>\n",
       "      <td>0</td>\n",
       "      <td>0</td>\n",
       "      <td>0</td>\n",
       "    </tr>\n",
       "    <tr>\n",
       "      <th>1</th>\n",
       "      <td>0</td>\n",
       "      <td>0</td>\n",
       "      <td>0</td>\n",
       "      <td>1</td>\n",
       "      <td>0</td>\n",
       "      <td>0</td>\n",
       "      <td>0</td>\n",
       "      <td>0</td>\n",
       "      <td>1</td>\n",
       "      <td>1</td>\n",
       "      <td>...</td>\n",
       "      <td>0</td>\n",
       "      <td>0</td>\n",
       "      <td>0</td>\n",
       "      <td>0</td>\n",
       "      <td>0</td>\n",
       "      <td>0</td>\n",
       "      <td>0</td>\n",
       "      <td>0</td>\n",
       "      <td>0</td>\n",
       "      <td>0</td>\n",
       "    </tr>\n",
       "    <tr>\n",
       "      <th>2</th>\n",
       "      <td>0</td>\n",
       "      <td>0</td>\n",
       "      <td>1</td>\n",
       "      <td>0</td>\n",
       "      <td>0</td>\n",
       "      <td>0</td>\n",
       "      <td>0</td>\n",
       "      <td>1</td>\n",
       "      <td>0</td>\n",
       "      <td>0</td>\n",
       "      <td>...</td>\n",
       "      <td>0</td>\n",
       "      <td>0</td>\n",
       "      <td>1</td>\n",
       "      <td>1</td>\n",
       "      <td>0</td>\n",
       "      <td>0</td>\n",
       "      <td>1</td>\n",
       "      <td>0</td>\n",
       "      <td>1</td>\n",
       "      <td>0</td>\n",
       "    </tr>\n",
       "    <tr>\n",
       "      <th>3</th>\n",
       "      <td>0</td>\n",
       "      <td>1</td>\n",
       "      <td>0</td>\n",
       "      <td>0</td>\n",
       "      <td>1</td>\n",
       "      <td>1</td>\n",
       "      <td>0</td>\n",
       "      <td>0</td>\n",
       "      <td>0</td>\n",
       "      <td>0</td>\n",
       "      <td>...</td>\n",
       "      <td>0</td>\n",
       "      <td>1</td>\n",
       "      <td>0</td>\n",
       "      <td>0</td>\n",
       "      <td>0</td>\n",
       "      <td>0</td>\n",
       "      <td>0</td>\n",
       "      <td>0</td>\n",
       "      <td>0</td>\n",
       "      <td>0</td>\n",
       "    </tr>\n",
       "    <tr>\n",
       "      <th>4</th>\n",
       "      <td>1</td>\n",
       "      <td>0</td>\n",
       "      <td>0</td>\n",
       "      <td>0</td>\n",
       "      <td>0</td>\n",
       "      <td>1</td>\n",
       "      <td>0</td>\n",
       "      <td>0</td>\n",
       "      <td>0</td>\n",
       "      <td>0</td>\n",
       "      <td>...</td>\n",
       "      <td>1</td>\n",
       "      <td>0</td>\n",
       "      <td>0</td>\n",
       "      <td>0</td>\n",
       "      <td>0</td>\n",
       "      <td>0</td>\n",
       "      <td>0</td>\n",
       "      <td>1</td>\n",
       "      <td>0</td>\n",
       "      <td>1</td>\n",
       "    </tr>\n",
       "    <tr>\n",
       "      <th>5</th>\n",
       "      <td>0</td>\n",
       "      <td>0</td>\n",
       "      <td>0</td>\n",
       "      <td>0</td>\n",
       "      <td>0</td>\n",
       "      <td>0</td>\n",
       "      <td>0</td>\n",
       "      <td>1</td>\n",
       "      <td>0</td>\n",
       "      <td>0</td>\n",
       "      <td>...</td>\n",
       "      <td>1</td>\n",
       "      <td>0</td>\n",
       "      <td>0</td>\n",
       "      <td>0</td>\n",
       "      <td>1</td>\n",
       "      <td>1</td>\n",
       "      <td>0</td>\n",
       "      <td>0</td>\n",
       "      <td>0</td>\n",
       "      <td>0</td>\n",
       "    </tr>\n",
       "  </tbody>\n",
       "</table>\n",
       "<p>6 rows × 32 columns</p>\n",
       "</div>"
      ],
      "text/plain": [
       "   affect  avail  avenu  back  background  believ  best  chang  commun  \\\n",
       "0       0      0      0     0           0       0     1      0       0   \n",
       "1       0      0      0     1           0       0     0      0       1   \n",
       "2       0      0      1     0           0       0     0      1       0   \n",
       "3       0      1      0     0           1       1     0      0       0   \n",
       "4       1      0      0     0           0       1     0      0       0   \n",
       "5       0      0      0     0           0       0     0      1       0   \n",
       "\n",
       "   endeavour  ...  present  regardless  safaricom  societi  strive  thu  \\\n",
       "0          0  ...        0           0          0        0       0    0   \n",
       "1          1  ...        0           0          0        0       0    0   \n",
       "2          0  ...        0           0          1        1       0    0   \n",
       "3          0  ...        0           1          0        0       0    0   \n",
       "4          0  ...        1           0          0        0       0    0   \n",
       "5          0  ...        1           0          0        0       1    1   \n",
       "\n",
       "   toward  underprivileg  variou  young  \n",
       "0       0              0       0      0  \n",
       "1       0              0       0      0  \n",
       "2       1              0       1      0  \n",
       "3       0              0       0      0  \n",
       "4       0              1       0      1  \n",
       "5       0              0       0      0  \n",
       "\n",
       "[6 rows x 32 columns]"
      ]
     },
     "execution_count": 68,
     "metadata": {},
     "output_type": "execute_result"
    }
   ],
   "source": [
    "feature_names = count_vectorizer.get_feature_names_out()\n",
    "pd.DataFrame(bag_of_words.toarray(), columns = feature_names)"
   ]
  },
  {
   "cell_type": "markdown",
   "metadata": {},
   "source": [
    "### vii. TF-IDF"
   ]
  },
  {
   "cell_type": "markdown",
   "metadata": {},
   "source": [
    "One problem with scoring word frequency is that the most frequent words in the document start to have the highest scores. These frequent words may not contain as much “informational gain” to the model compared with some rarer and domain-specific words. One approach to fix that problem is to penalize words that are frequent across all the documents. This approach is called TF-IDF.\n",
    "\n",
    "TF-IDF, short for term frequency-inverse document frequency is a statistical measure used to evaluate the importance of a word to a document in a collection or corpus.\n",
    "\n",
    "The TF-IDF scoring value increases proportionally to the number of times a word appears in the document, but it is offset by the number of documents in the corpus that contain the word."
   ]
  },
  {
   "cell_type": "code",
   "execution_count": 69,
   "metadata": {},
   "outputs": [],
   "source": [
    "from sklearn.feature_extraction.text import TfidfVectorizer"
   ]
  },
  {
   "cell_type": "code",
   "execution_count": 74,
   "metadata": {},
   "outputs": [
    {
     "data": {
      "text/plain": [
       "['jane gone school .',\n",
       " 'mom pick jane park lot .',\n",
       " 'school great .',\n",
       " 'graduat june .',\n",
       " 'best teacher school .']"
      ]
     },
     "execution_count": 74,
     "metadata": {},
     "output_type": "execute_result"
    }
   ],
   "source": [
    "text2 = \"\"\"\n",
    "Jane has gone to school.\n",
    "Mom picked Jane at the parking lot.\n",
    "School is great.\n",
    "I will graduate in June.\n",
    "I have the best teachers at my school.\n",
    "\"\"\"\n",
    "documents = nltk.sent_tokenize(preprocess(text2))\n",
    "documents"
   ]
  },
  {
   "cell_type": "code",
   "execution_count": 75,
   "metadata": {},
   "outputs": [],
   "source": [
    "tfidf_vectorizer = TfidfVectorizer()\n",
    "values = tfidf_vectorizer.fit_transform(documents)"
   ]
  },
  {
   "cell_type": "code",
   "execution_count": 76,
   "metadata": {},
   "outputs": [
    {
     "data": {
      "text/html": [
       "<div>\n",
       "<style scoped>\n",
       "    .dataframe tbody tr th:only-of-type {\n",
       "        vertical-align: middle;\n",
       "    }\n",
       "\n",
       "    .dataframe tbody tr th {\n",
       "        vertical-align: top;\n",
       "    }\n",
       "\n",
       "    .dataframe thead th {\n",
       "        text-align: right;\n",
       "    }\n",
       "</style>\n",
       "<table border=\"1\" class=\"dataframe\">\n",
       "  <thead>\n",
       "    <tr style=\"text-align: right;\">\n",
       "      <th></th>\n",
       "      <th>best</th>\n",
       "      <th>gone</th>\n",
       "      <th>graduat</th>\n",
       "      <th>great</th>\n",
       "      <th>jane</th>\n",
       "      <th>june</th>\n",
       "      <th>lot</th>\n",
       "      <th>mom</th>\n",
       "      <th>park</th>\n",
       "      <th>pick</th>\n",
       "      <th>school</th>\n",
       "      <th>teacher</th>\n",
       "    </tr>\n",
       "  </thead>\n",
       "  <tbody>\n",
       "    <tr>\n",
       "      <th>0</th>\n",
       "      <td>0.00000</td>\n",
       "      <td>0.690159</td>\n",
       "      <td>0.000000</td>\n",
       "      <td>0.000000</td>\n",
       "      <td>0.556816</td>\n",
       "      <td>0.000000</td>\n",
       "      <td>0.000000</td>\n",
       "      <td>0.000000</td>\n",
       "      <td>0.000000</td>\n",
       "      <td>0.000000</td>\n",
       "      <td>0.462208</td>\n",
       "      <td>0.00000</td>\n",
       "    </tr>\n",
       "    <tr>\n",
       "      <th>1</th>\n",
       "      <td>0.00000</td>\n",
       "      <td>0.000000</td>\n",
       "      <td>0.000000</td>\n",
       "      <td>0.000000</td>\n",
       "      <td>0.374105</td>\n",
       "      <td>0.000000</td>\n",
       "      <td>0.463693</td>\n",
       "      <td>0.463693</td>\n",
       "      <td>0.463693</td>\n",
       "      <td>0.463693</td>\n",
       "      <td>0.000000</td>\n",
       "      <td>0.00000</td>\n",
       "    </tr>\n",
       "    <tr>\n",
       "      <th>2</th>\n",
       "      <td>0.00000</td>\n",
       "      <td>0.000000</td>\n",
       "      <td>0.000000</td>\n",
       "      <td>0.830881</td>\n",
       "      <td>0.000000</td>\n",
       "      <td>0.000000</td>\n",
       "      <td>0.000000</td>\n",
       "      <td>0.000000</td>\n",
       "      <td>0.000000</td>\n",
       "      <td>0.000000</td>\n",
       "      <td>0.556451</td>\n",
       "      <td>0.00000</td>\n",
       "    </tr>\n",
       "    <tr>\n",
       "      <th>3</th>\n",
       "      <td>0.00000</td>\n",
       "      <td>0.000000</td>\n",
       "      <td>0.707107</td>\n",
       "      <td>0.000000</td>\n",
       "      <td>0.000000</td>\n",
       "      <td>0.707107</td>\n",
       "      <td>0.000000</td>\n",
       "      <td>0.000000</td>\n",
       "      <td>0.000000</td>\n",
       "      <td>0.000000</td>\n",
       "      <td>0.000000</td>\n",
       "      <td>0.00000</td>\n",
       "    </tr>\n",
       "    <tr>\n",
       "      <th>4</th>\n",
       "      <td>0.63907</td>\n",
       "      <td>0.000000</td>\n",
       "      <td>0.000000</td>\n",
       "      <td>0.000000</td>\n",
       "      <td>0.000000</td>\n",
       "      <td>0.000000</td>\n",
       "      <td>0.000000</td>\n",
       "      <td>0.000000</td>\n",
       "      <td>0.000000</td>\n",
       "      <td>0.000000</td>\n",
       "      <td>0.427993</td>\n",
       "      <td>0.63907</td>\n",
       "    </tr>\n",
       "  </tbody>\n",
       "</table>\n",
       "</div>"
      ],
      "text/plain": [
       "      best      gone   graduat     great      jane      june       lot  \\\n",
       "0  0.00000  0.690159  0.000000  0.000000  0.556816  0.000000  0.000000   \n",
       "1  0.00000  0.000000  0.000000  0.000000  0.374105  0.000000  0.463693   \n",
       "2  0.00000  0.000000  0.000000  0.830881  0.000000  0.000000  0.000000   \n",
       "3  0.00000  0.000000  0.707107  0.000000  0.000000  0.707107  0.000000   \n",
       "4  0.63907  0.000000  0.000000  0.000000  0.000000  0.000000  0.000000   \n",
       "\n",
       "        mom      park      pick    school  teacher  \n",
       "0  0.000000  0.000000  0.000000  0.462208  0.00000  \n",
       "1  0.463693  0.463693  0.463693  0.000000  0.00000  \n",
       "2  0.000000  0.000000  0.000000  0.556451  0.00000  \n",
       "3  0.000000  0.000000  0.000000  0.000000  0.00000  \n",
       "4  0.000000  0.000000  0.000000  0.427993  0.63907  "
      ]
     },
     "execution_count": 76,
     "metadata": {},
     "output_type": "execute_result"
    }
   ],
   "source": [
    "# Show the Model as a pandas DataFrame\n",
    "feature_names = tfidf_vectorizer.get_feature_names_out()\n",
    "pd.DataFrame(values.toarray(), columns = feature_names)"
   ]
  },
  {
   "cell_type": "markdown",
   "metadata": {},
   "source": [
    "## Read on Regular Expressions in NLP\n",
    "- https://towardsdatascience.com/regex-essential-for-nlp-ee0336ef988d\n",
    "- https://towardsdatascience.com/regex-essential-for-nlp-ee0336ef988d\n",
    "    "
   ]
  },
  {
   "cell_type": "code",
   "execution_count": null,
   "metadata": {},
   "outputs": [],
   "source": []
  }
 ],
 "metadata": {
  "kernelspec": {
   "display_name": "Python 3 (ipykernel)",
   "language": "python",
   "name": "python3"
  },
  "language_info": {
   "codemirror_mode": {
    "name": "ipython",
    "version": 3
   },
   "file_extension": ".py",
   "mimetype": "text/x-python",
   "name": "python",
   "nbconvert_exporter": "python",
   "pygments_lexer": "ipython3",
   "version": "3.10.5"
  }
 },
 "nbformat": 4,
 "nbformat_minor": 4
}
