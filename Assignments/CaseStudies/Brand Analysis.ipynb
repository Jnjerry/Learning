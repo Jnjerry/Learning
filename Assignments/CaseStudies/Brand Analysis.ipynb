{
 "cells": [
  {
   "cell_type": "markdown",
   "metadata": {},
   "source": [
    "# Customer Behaviour Analysis\n",
    "The decisions and instincts that make a customer buy a certain product or service can be described as customer behavior.\n",
    "\n",
    "With the advent of targeted marketing, traditional marketing techniques are getting obsolete with every new day. The rise of digital marketing, where every customer is shown advertisements particular to their interests and habits, has taken over the world.\n",
    "\n",
    "This insight into customer’s interests and habits is obtained through an extensive customer behavior analysis approach."
   ]
  },
  {
   "cell_type": "markdown",
   "metadata": {},
   "source": [
    "---"
   ]
  },
  {
   "cell_type": "markdown",
   "metadata": {},
   "source": [
    "## Side Note\n",
    "Do you know that the average attention span of a person is at an all-time low? This means that an average advertiser or salesperson has only seven seconds to grasp a customer’s attention before they move to another product as there are so many options available for them to choose from.\n",
    "\n",
    "A customer will only be interested in your product if they somehow get convinced that it aligns with their interests and habits."
   ]
  },
  {
   "cell_type": "markdown",
   "metadata": {},
   "source": [
    "## About DataSet"
   ]
  },
  {
   "cell_type": "markdown",
   "metadata": {},
   "source": [
    "event_time: The exact time when the activity occurred by a user\n",
    "\n",
    "event_type: The type of activity occurred; there are three types in our case, i.e, view, cart, and purchase\n",
    "\n",
    "product_id: The unique ID of a particular product\n",
    "\n",
    "category_id: The unique ID of the category to which the product belongs to\n",
    "\n",
    "category_code: The unique category code to which the product belongs to\n",
    "\n",
    "brand: The brand name of the selected product\n",
    "\n",
    "price: The price of the selected product\n",
    "\n",
    "user_id: The unique ID of the user\n",
    "\n",
    "user_session: The unique ID generated every time a user visits the site. It is different for every visit of a particular user"
   ]
  },
  {
   "cell_type": "markdown",
   "metadata": {},
   "source": [
    "## 1.What insights can you get about a brand"
   ]
  },
  {
   "cell_type": "markdown",
   "metadata": {},
   "source": [
    "## 2. Extract Customer Activity Insights and comment"
   ]
  },
  {
   "cell_type": "markdown",
   "metadata": {},
   "source": [
    "## 3. Identify Famous Brands and Categories"
   ]
  },
  {
   "cell_type": "code",
   "execution_count": null,
   "metadata": {},
   "outputs": [],
   "source": []
  }
 ],
 "metadata": {
  "kernelspec": {
   "display_name": "Python 3",
   "language": "python",
   "name": "python3"
  },
  "language_info": {
   "codemirror_mode": {
    "name": "ipython",
    "version": 3
   },
   "file_extension": ".py",
   "mimetype": "text/x-python",
   "name": "python",
   "nbconvert_exporter": "python",
   "pygments_lexer": "ipython3",
   "version": "3.7.2rc1"
  }
 },
 "nbformat": 4,
 "nbformat_minor": 4
}
